{
  "nbformat": 4,
  "nbformat_minor": 0,
  "metadata": {
    "kernelspec": {
      "display_name": "Python 3",
      "language": "python",
      "name": "python3"
    },
    "language_info": {
      "codemirror_mode": {
        "name": "ipython",
        "version": 3
      },
      "file_extension": ".py",
      "mimetype": "text/x-python",
      "name": "python",
      "nbconvert_exporter": "python",
      "pygments_lexer": "ipython3",
      "version": "3.7.6"
    },
    "colab": {
      "name": "Neural_Network(Gas_Turbines).ipynb",
      "provenance": [],
      "collapsed_sections": []
    }
  },
  "cells": [
    {
      "cell_type": "code",
      "metadata": {
        "id": "wxeUDaS_qqzL"
      },
      "source": [
        "import pandas as pd\n",
        "import numpy as np\n",
        "import matplotlib.pyplot as plt\n",
        "import seaborn as sns"
      ],
      "execution_count": null,
      "outputs": []
    },
    {
      "cell_type": "code",
      "metadata": {
        "colab": {
          "resources": {
            "http://localhost:8080/nbextensions/google.colab/files.js": {
              "data": "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",
              "ok": true,
              "headers": [
                [
                  "content-type",
                  "application/javascript"
                ]
              ],
              "status": 200,
              "status_text": ""
            }
          },
          "base_uri": "https://localhost:8080/",
          "height": 74
        },
        "id": "JVbSrbMRq104",
        "outputId": "ae005b7d-a3b6-47e6-9820-95fbd8d397f4"
      },
      "source": [
        "from google.colab import files\n",
        "uploaded = files.upload()"
      ],
      "execution_count": 44,
      "outputs": [
        {
          "output_type": "display_data",
          "data": {
            "text/html": [
              "\n",
              "     <input type=\"file\" id=\"files-56181c5d-2bbb-4b28-885b-a72b73394335\" name=\"files[]\" multiple disabled\n",
              "        style=\"border:none\" />\n",
              "     <output id=\"result-56181c5d-2bbb-4b28-885b-a72b73394335\">\n",
              "      Upload widget is only available when the cell has been executed in the\n",
              "      current browser session. Please rerun this cell to enable.\n",
              "      </output>\n",
              "      <script src=\"/nbextensions/google.colab/files.js\"></script> "
            ],
            "text/plain": [
              "<IPython.core.display.HTML object>"
            ]
          },
          "metadata": {
            "tags": []
          }
        },
        {
          "output_type": "stream",
          "text": [
            "Saving gas_turbines.csv to gas_turbines (1).csv\n"
          ],
          "name": "stdout"
        }
      ]
    },
    {
      "cell_type": "code",
      "metadata": {
        "id": "ITl5MWk3qqzS",
        "colab": {
          "base_uri": "https://localhost:8080/",
          "height": 417
        },
        "outputId": "45137690-3e67-4721-b59e-03aa98dc36b3"
      },
      "source": [
        "data=pd.read_csv('gas_turbines.csv')\n",
        "data"
      ],
      "execution_count": 45,
      "outputs": [
        {
          "output_type": "execute_result",
          "data": {
            "text/html": [
              "<div>\n",
              "<style scoped>\n",
              "    .dataframe tbody tr th:only-of-type {\n",
              "        vertical-align: middle;\n",
              "    }\n",
              "\n",
              "    .dataframe tbody tr th {\n",
              "        vertical-align: top;\n",
              "    }\n",
              "\n",
              "    .dataframe thead th {\n",
              "        text-align: right;\n",
              "    }\n",
              "</style>\n",
              "<table border=\"1\" class=\"dataframe\">\n",
              "  <thead>\n",
              "    <tr style=\"text-align: right;\">\n",
              "      <th></th>\n",
              "      <th>AT</th>\n",
              "      <th>AP</th>\n",
              "      <th>AH</th>\n",
              "      <th>AFDP</th>\n",
              "      <th>GTEP</th>\n",
              "      <th>TIT</th>\n",
              "      <th>TAT</th>\n",
              "      <th>TEY</th>\n",
              "      <th>CDP</th>\n",
              "      <th>CO</th>\n",
              "      <th>NOX</th>\n",
              "    </tr>\n",
              "  </thead>\n",
              "  <tbody>\n",
              "    <tr>\n",
              "      <th>0</th>\n",
              "      <td>6.8594</td>\n",
              "      <td>1007.9</td>\n",
              "      <td>96.799</td>\n",
              "      <td>3.5000</td>\n",
              "      <td>19.663</td>\n",
              "      <td>1059.2</td>\n",
              "      <td>550.00</td>\n",
              "      <td>114.70</td>\n",
              "      <td>10.605</td>\n",
              "      <td>3.1547</td>\n",
              "      <td>82.722</td>\n",
              "    </tr>\n",
              "    <tr>\n",
              "      <th>1</th>\n",
              "      <td>6.7850</td>\n",
              "      <td>1008.4</td>\n",
              "      <td>97.118</td>\n",
              "      <td>3.4998</td>\n",
              "      <td>19.728</td>\n",
              "      <td>1059.3</td>\n",
              "      <td>550.00</td>\n",
              "      <td>114.72</td>\n",
              "      <td>10.598</td>\n",
              "      <td>3.2363</td>\n",
              "      <td>82.776</td>\n",
              "    </tr>\n",
              "    <tr>\n",
              "      <th>2</th>\n",
              "      <td>6.8977</td>\n",
              "      <td>1008.8</td>\n",
              "      <td>95.939</td>\n",
              "      <td>3.4824</td>\n",
              "      <td>19.779</td>\n",
              "      <td>1059.4</td>\n",
              "      <td>549.87</td>\n",
              "      <td>114.71</td>\n",
              "      <td>10.601</td>\n",
              "      <td>3.2012</td>\n",
              "      <td>82.468</td>\n",
              "    </tr>\n",
              "    <tr>\n",
              "      <th>3</th>\n",
              "      <td>7.0569</td>\n",
              "      <td>1009.2</td>\n",
              "      <td>95.249</td>\n",
              "      <td>3.4805</td>\n",
              "      <td>19.792</td>\n",
              "      <td>1059.6</td>\n",
              "      <td>549.99</td>\n",
              "      <td>114.72</td>\n",
              "      <td>10.606</td>\n",
              "      <td>3.1923</td>\n",
              "      <td>82.670</td>\n",
              "    </tr>\n",
              "    <tr>\n",
              "      <th>4</th>\n",
              "      <td>7.3978</td>\n",
              "      <td>1009.7</td>\n",
              "      <td>95.150</td>\n",
              "      <td>3.4976</td>\n",
              "      <td>19.765</td>\n",
              "      <td>1059.7</td>\n",
              "      <td>549.98</td>\n",
              "      <td>114.72</td>\n",
              "      <td>10.612</td>\n",
              "      <td>3.2484</td>\n",
              "      <td>82.311</td>\n",
              "    </tr>\n",
              "    <tr>\n",
              "      <th>...</th>\n",
              "      <td>...</td>\n",
              "      <td>...</td>\n",
              "      <td>...</td>\n",
              "      <td>...</td>\n",
              "      <td>...</td>\n",
              "      <td>...</td>\n",
              "      <td>...</td>\n",
              "      <td>...</td>\n",
              "      <td>...</td>\n",
              "      <td>...</td>\n",
              "      <td>...</td>\n",
              "    </tr>\n",
              "    <tr>\n",
              "      <th>15034</th>\n",
              "      <td>9.0301</td>\n",
              "      <td>1005.6</td>\n",
              "      <td>98.460</td>\n",
              "      <td>3.5421</td>\n",
              "      <td>19.164</td>\n",
              "      <td>1049.7</td>\n",
              "      <td>546.21</td>\n",
              "      <td>111.61</td>\n",
              "      <td>10.400</td>\n",
              "      <td>4.5186</td>\n",
              "      <td>79.559</td>\n",
              "    </tr>\n",
              "    <tr>\n",
              "      <th>15035</th>\n",
              "      <td>7.8879</td>\n",
              "      <td>1005.9</td>\n",
              "      <td>99.093</td>\n",
              "      <td>3.5059</td>\n",
              "      <td>19.414</td>\n",
              "      <td>1046.3</td>\n",
              "      <td>543.22</td>\n",
              "      <td>111.78</td>\n",
              "      <td>10.433</td>\n",
              "      <td>4.8470</td>\n",
              "      <td>79.917</td>\n",
              "    </tr>\n",
              "    <tr>\n",
              "      <th>15036</th>\n",
              "      <td>7.2647</td>\n",
              "      <td>1006.3</td>\n",
              "      <td>99.496</td>\n",
              "      <td>3.4770</td>\n",
              "      <td>19.530</td>\n",
              "      <td>1037.7</td>\n",
              "      <td>537.32</td>\n",
              "      <td>110.19</td>\n",
              "      <td>10.483</td>\n",
              "      <td>7.9632</td>\n",
              "      <td>90.912</td>\n",
              "    </tr>\n",
              "    <tr>\n",
              "      <th>15037</th>\n",
              "      <td>7.0060</td>\n",
              "      <td>1006.8</td>\n",
              "      <td>99.008</td>\n",
              "      <td>3.4486</td>\n",
              "      <td>19.377</td>\n",
              "      <td>1043.2</td>\n",
              "      <td>541.24</td>\n",
              "      <td>110.74</td>\n",
              "      <td>10.533</td>\n",
              "      <td>6.2494</td>\n",
              "      <td>93.227</td>\n",
              "    </tr>\n",
              "    <tr>\n",
              "      <th>15038</th>\n",
              "      <td>6.9279</td>\n",
              "      <td>1007.2</td>\n",
              "      <td>97.533</td>\n",
              "      <td>3.4275</td>\n",
              "      <td>19.306</td>\n",
              "      <td>1049.9</td>\n",
              "      <td>545.85</td>\n",
              "      <td>111.58</td>\n",
              "      <td>10.583</td>\n",
              "      <td>4.9816</td>\n",
              "      <td>92.498</td>\n",
              "    </tr>\n",
              "  </tbody>\n",
              "</table>\n",
              "<p>15039 rows × 11 columns</p>\n",
              "</div>"
            ],
            "text/plain": [
              "           AT      AP      AH    AFDP  ...     TEY     CDP      CO     NOX\n",
              "0      6.8594  1007.9  96.799  3.5000  ...  114.70  10.605  3.1547  82.722\n",
              "1      6.7850  1008.4  97.118  3.4998  ...  114.72  10.598  3.2363  82.776\n",
              "2      6.8977  1008.8  95.939  3.4824  ...  114.71  10.601  3.2012  82.468\n",
              "3      7.0569  1009.2  95.249  3.4805  ...  114.72  10.606  3.1923  82.670\n",
              "4      7.3978  1009.7  95.150  3.4976  ...  114.72  10.612  3.2484  82.311\n",
              "...       ...     ...     ...     ...  ...     ...     ...     ...     ...\n",
              "15034  9.0301  1005.6  98.460  3.5421  ...  111.61  10.400  4.5186  79.559\n",
              "15035  7.8879  1005.9  99.093  3.5059  ...  111.78  10.433  4.8470  79.917\n",
              "15036  7.2647  1006.3  99.496  3.4770  ...  110.19  10.483  7.9632  90.912\n",
              "15037  7.0060  1006.8  99.008  3.4486  ...  110.74  10.533  6.2494  93.227\n",
              "15038  6.9279  1007.2  97.533  3.4275  ...  111.58  10.583  4.9816  92.498\n",
              "\n",
              "[15039 rows x 11 columns]"
            ]
          },
          "metadata": {
            "tags": []
          },
          "execution_count": 45
        }
      ]
    },
    {
      "cell_type": "code",
      "metadata": {
        "id": "2ZCO9UZnqqzX",
        "colab": {
          "base_uri": "https://localhost:8080/"
        },
        "outputId": "38480319-ce2b-498b-f0c0-737107cefd6b"
      },
      "source": [
        "data['TEY'].value_counts()"
      ],
      "execution_count": 46,
      "outputs": [
        {
          "output_type": "execute_result",
          "data": {
            "text/plain": [
              "133.74    150\n",
              "133.78    148\n",
              "133.67    143\n",
              "133.76    142\n",
              "133.79    127\n",
              "         ... \n",
              "162.17      1\n",
              "144.30      1\n",
              "107.05      1\n",
              "169.61      1\n",
              "143.26      1\n",
              "Name: TEY, Length: 4207, dtype: int64"
            ]
          },
          "metadata": {
            "tags": []
          },
          "execution_count": 46
        }
      ]
    },
    {
      "cell_type": "code",
      "metadata": {
        "id": "Gg-i3Zh2qqza",
        "colab": {
          "base_uri": "https://localhost:8080/"
        },
        "outputId": "b8af5d46-6510-4786-e36e-d49d04ff09dd"
      },
      "source": [
        "data.columns"
      ],
      "execution_count": 47,
      "outputs": [
        {
          "output_type": "execute_result",
          "data": {
            "text/plain": [
              "Index(['AT', 'AP', 'AH', 'AFDP', 'GTEP', 'TIT', 'TAT', 'TEY', 'CDP', 'CO',\n",
              "       'NOX'],\n",
              "      dtype='object')"
            ]
          },
          "metadata": {
            "tags": []
          },
          "execution_count": 47
        }
      ]
    },
    {
      "cell_type": "code",
      "metadata": {
        "colab": {
          "base_uri": "https://localhost:8080/"
        },
        "id": "FK3MkXR_qqzb",
        "outputId": "aa234187-3ffd-45ad-bb4e-ccaa66efff6e"
      },
      "source": [
        "for i in data.columns:\n",
        "  print(data[i].value_counts(),'\\n')"
      ],
      "execution_count": 48,
      "outputs": [
        {
          "output_type": "stream",
          "text": [
            "19.6760    5\n",
            "11.5850    5\n",
            "14.0430    5\n",
            "25.9690    5\n",
            "12.0680    5\n",
            "          ..\n",
            "24.3220    1\n",
            "5.8949     1\n",
            "6.3592     1\n",
            "7.7117     1\n",
            "10.2500    1\n",
            "Name: AT, Length: 12086, dtype: int64 \n",
            "\n",
            "1011.80    129\n",
            "1012.10    127\n",
            "1011.90    121\n",
            "1010.80    119\n",
            "1013.60    118\n",
            "          ... \n",
            "997.78       1\n",
            "986.25       1\n",
            "996.89       1\n",
            "996.29       1\n",
            "1031.00      1\n",
            "Name: AP, Length: 540, dtype: int64 \n",
            "\n",
            "100.140    31\n",
            "100.150    29\n",
            "100.110    28\n",
            "100.120    24\n",
            "100.130    19\n",
            "           ..\n",
            "95.180      1\n",
            "76.509      1\n",
            "90.342      1\n",
            "69.158      1\n",
            "84.000      1\n",
            "Name: AH, Length: 12637, dtype: int64 \n",
            "\n",
            "4.5032    7\n",
            "4.4361    6\n",
            "4.2500    6\n",
            "3.8837    6\n",
            "4.4273    6\n",
            "         ..\n",
            "4.0567    1\n",
            "3.2617    1\n",
            "3.9554    1\n",
            "4.5783    1\n",
            "3.5000    1\n",
            "Name: AFDP, Length: 11314, dtype: int64 \n",
            "\n",
            "25.552    9\n",
            "24.288    9\n",
            "25.487    9\n",
            "24.361    9\n",
            "24.308    9\n",
            "         ..\n",
            "23.683    1\n",
            "37.340    1\n",
            "26.484    1\n",
            "29.854    1\n",
            "18.500    1\n",
            "Name: GTEP, Length: 8234, dtype: int64 \n",
            "\n",
            "1100.0    761\n",
            "1099.9    598\n",
            "1100.1    592\n",
            "1100.2    415\n",
            "1099.8    368\n",
            "         ... \n",
            "1032.0      1\n",
            "1025.0      1\n",
            "1043.1      1\n",
            "1035.8      1\n",
            "1031.0      1\n",
            "Name: TIT, Length: 706, dtype: int64 \n",
            "\n",
            "550.01    270\n",
            "550.00    268\n",
            "550.04    266\n",
            "550.03    253\n",
            "549.98    252\n",
            "         ... \n",
            "545.08      1\n",
            "541.12      1\n",
            "541.55      1\n",
            "545.20      1\n",
            "528.00      1\n",
            "Name: TAT, Length: 2340, dtype: int64 \n",
            "\n",
            "133.74    150\n",
            "133.78    148\n",
            "133.67    143\n",
            "133.76    142\n",
            "133.79    127\n",
            "         ... \n",
            "162.17      1\n",
            "144.30      1\n",
            "107.05      1\n",
            "169.61      1\n",
            "143.26      1\n",
            "Name: TEY, Length: 4207, dtype: int64 \n",
            "\n",
            "12.165    26\n",
            "12.122    25\n",
            "11.806    22\n",
            "12.126    22\n",
            "11.934    22\n",
            "          ..\n",
            "14.908     1\n",
            "14.128     1\n",
            "12.456     1\n",
            "11.469     1\n",
            "12.459     1\n",
            "Name: CDP, Length: 3611, dtype: int64 \n",
            "\n",
            "1.23980    5\n",
            "1.31910    5\n",
            "1.33180    5\n",
            "1.48320    5\n",
            "1.71180    4\n",
            "          ..\n",
            "0.24002    1\n",
            "3.70890    1\n",
            "1.06240    1\n",
            "1.34600    1\n",
            "0.22551    1\n",
            "Name: CO, Length: 13096, dtype: int64 \n",
            "\n",
            "60.380    103\n",
            "66.012      6\n",
            "61.579      6\n",
            "56.644      6\n",
            "60.063      5\n",
            "         ... \n",
            "67.477      1\n",
            "55.119      1\n",
            "60.835      1\n",
            "64.705      1\n",
            "68.971      1\n",
            "Name: NOX, Length: 11996, dtype: int64 \n",
            "\n"
          ],
          "name": "stdout"
        }
      ]
    },
    {
      "cell_type": "code",
      "metadata": {
        "colab": {
          "base_uri": "https://localhost:8080/",
          "height": 350
        },
        "id": "5RiYVaoyqqzc",
        "outputId": "ebfe12f4-8dca-48cd-b7c9-0ccd1e64ee23"
      },
      "source": [
        "sns.boxplot(data['AT'])"
      ],
      "execution_count": 49,
      "outputs": [
        {
          "output_type": "stream",
          "text": [
            "/usr/local/lib/python3.7/dist-packages/seaborn/_decorators.py:43: FutureWarning: Pass the following variable as a keyword arg: x. From version 0.12, the only valid positional argument will be `data`, and passing other arguments without an explicit keyword will result in an error or misinterpretation.\n",
            "  FutureWarning\n"
          ],
          "name": "stderr"
        },
        {
          "output_type": "execute_result",
          "data": {
            "text/plain": [
              "<matplotlib.axes._subplots.AxesSubplot at 0x7ff1fc227990>"
            ]
          },
          "metadata": {
            "tags": []
          },
          "execution_count": 49
        },
        {
          "output_type": "display_data",
          "data": {
            "image/png": "[encoded data removed]",
            "text/plain": [
              "<Figure size 432x288 with 1 Axes>"
            ]
          },
          "metadata": {
            "tags": [],
            "needs_background": "light"
          }
        }
      ]
    },
    {
      "cell_type": "code",
      "metadata": {
        "colab": {
          "base_uri": "https://localhost:8080/",
          "height": 350
        },
        "id": "GDNs2DqQqqze",
        "outputId": "d24e7a0e-5fc3-497e-9b12-b5051471b2a2"
      },
      "source": [
        "sns.boxplot(data['AP'])"
      ],
      "execution_count": 50,
      "outputs": [
        {
          "output_type": "stream",
          "text": [
            "/usr/local/lib/python3.7/dist-packages/seaborn/_decorators.py:43: FutureWarning: Pass the following variable as a keyword arg: x. From version 0.12, the only valid positional argument will be `data`, and passing other arguments without an explicit keyword will result in an error or misinterpretation.\n",
            "  FutureWarning\n"
          ],
          "name": "stderr"
        },
        {
          "output_type": "execute_result",
          "data": {
            "text/plain": [
              "<matplotlib.axes._subplots.AxesSubplot at 0x7ff1fc201290>"
            ]
          },
          "metadata": {
            "tags": []
          },
          "execution_count": 50
        },
        {
          "output_type": "display_data",
          "data": {
            "image/png": "[encoded data removed]",
            "text/plain": [
              "<Figure size 432x288 with 1 Axes>"
            ]
          },
          "metadata": {
            "tags": [],
            "needs_background": "light"
          }
        }
      ]
    },
    {
      "cell_type": "code",
      "metadata": {
        "colab": {
          "base_uri": "https://localhost:8080/",
          "height": 333
        },
        "id": "ZEn005yPqqzg",
        "outputId": "f921264d-264b-4c87-8584-da3f8c727611"
      },
      "source": [
        "sns.boxplot(data['GTEP'])\n",
        "data['GTEP']=data['GTEP'].loc[data.GTEP<33]"
      ],
      "execution_count": 51,
      "outputs": [
        {
          "output_type": "stream",
          "text": [
            "/usr/local/lib/python3.7/dist-packages/seaborn/_decorators.py:43: FutureWarning: Pass the following variable as a keyword arg: x. From version 0.12, the only valid positional argument will be `data`, and passing other arguments without an explicit keyword will result in an error or misinterpretation.\n",
            "  FutureWarning\n"
          ],
          "name": "stderr"
        },
        {
          "output_type": "display_data",
          "data": {
            "image/png": "[encoded data removed]",
            "text/plain": [
              "<Figure size 432x288 with 1 Axes>"
            ]
          },
          "metadata": {
            "tags": [],
            "needs_background": "light"
          }
        }
      ]
    },
    {
      "cell_type": "code",
      "metadata": {
        "colab": {
          "base_uri": "https://localhost:8080/"
        },
        "id": "eyS2CPtsqqzi",
        "outputId": "80986a17-1ff6-401a-b49f-270abfe8ec25"
      },
      "source": [
        "data=data.dropna(axis=0)\n",
        "data.shape"
      ],
      "execution_count": 52,
      "outputs": [
        {
          "output_type": "execute_result",
          "data": {
            "text/plain": [
              "(14363, 11)"
            ]
          },
          "metadata": {
            "tags": []
          },
          "execution_count": 52
        }
      ]
    },
    {
      "cell_type": "code",
      "metadata": {
        "colab": {
          "base_uri": "https://localhost:8080/",
          "height": 315
        },
        "id": "Lv6yWT5dqqzl",
        "outputId": "b12c6a7b-dd58-48e3-8b3a-c98f319c4e17"
      },
      "source": [
        "data.describe()"
      ],
      "execution_count": 53,
      "outputs": [
        {
          "output_type": "execute_result",
          "data": {
            "text/html": [
              "<div>\n",
              "<style scoped>\n",
              "    .dataframe tbody tr th:only-of-type {\n",
              "        vertical-align: middle;\n",
              "    }\n",
              "\n",
              "    .dataframe tbody tr th {\n",
              "        vertical-align: top;\n",
              "    }\n",
              "\n",
              "    .dataframe thead th {\n",
              "        text-align: right;\n",
              "    }\n",
              "</style>\n",
              "<table border=\"1\" class=\"dataframe\">\n",
              "  <thead>\n",
              "    <tr style=\"text-align: right;\">\n",
              "      <th></th>\n",
              "      <th>AT</th>\n",
              "      <th>AP</th>\n",
              "      <th>AH</th>\n",
              "      <th>AFDP</th>\n",
              "      <th>GTEP</th>\n",
              "      <th>TIT</th>\n",
              "      <th>TAT</th>\n",
              "      <th>TEY</th>\n",
              "      <th>CDP</th>\n",
              "      <th>CO</th>\n",
              "      <th>NOX</th>\n",
              "    </tr>\n",
              "  </thead>\n",
              "  <tbody>\n",
              "    <tr>\n",
              "      <th>count</th>\n",
              "      <td>14363.000000</td>\n",
              "      <td>14363.000000</td>\n",
              "      <td>14363.000000</td>\n",
              "      <td>14363.000000</td>\n",
              "      <td>14363.000000</td>\n",
              "      <td>14363.000000</td>\n",
              "      <td>14363.000000</td>\n",
              "      <td>14363.000000</td>\n",
              "      <td>14363.000000</td>\n",
              "      <td>14363.000000</td>\n",
              "      <td>14363.000000</td>\n",
              "    </tr>\n",
              "    <tr>\n",
              "      <th>mean</th>\n",
              "      <td>18.233948</td>\n",
              "      <td>1012.940101</td>\n",
              "      <td>79.013649</td>\n",
              "      <td>4.141225</td>\n",
              "      <td>25.026410</td>\n",
              "      <td>1083.037882</td>\n",
              "      <td>546.333572</td>\n",
              "      <td>132.741320</td>\n",
              "      <td>12.001836</td>\n",
              "      <td>2.032608</td>\n",
              "      <td>68.324963</td>\n",
              "    </tr>\n",
              "    <tr>\n",
              "      <th>std</th>\n",
              "      <td>7.391791</td>\n",
              "      <td>6.261948</td>\n",
              "      <td>13.913889</td>\n",
              "      <td>0.712482</td>\n",
              "      <td>3.844529</td>\n",
              "      <td>16.526682</td>\n",
              "      <td>6.696303</td>\n",
              "      <td>14.676335</td>\n",
              "      <td>1.023524</td>\n",
              "      <td>2.253038</td>\n",
              "      <td>10.654177</td>\n",
              "    </tr>\n",
              "    <tr>\n",
              "      <th>min</th>\n",
              "      <td>0.522300</td>\n",
              "      <td>985.850000</td>\n",
              "      <td>30.344000</td>\n",
              "      <td>2.087400</td>\n",
              "      <td>17.878000</td>\n",
              "      <td>1000.800000</td>\n",
              "      <td>512.450000</td>\n",
              "      <td>100.170000</td>\n",
              "      <td>9.904400</td>\n",
              "      <td>0.000388</td>\n",
              "      <td>27.765000</td>\n",
              "    </tr>\n",
              "    <tr>\n",
              "      <th>25%</th>\n",
              "      <td>12.244500</td>\n",
              "      <td>1008.800000</td>\n",
              "      <td>69.419500</td>\n",
              "      <td>3.694300</td>\n",
              "      <td>22.972000</td>\n",
              "      <td>1076.400000</td>\n",
              "      <td>545.800000</td>\n",
              "      <td>125.385000</td>\n",
              "      <td>11.471000</td>\n",
              "      <td>0.913185</td>\n",
              "      <td>61.167000</td>\n",
              "    </tr>\n",
              "    <tr>\n",
              "      <th>50%</th>\n",
              "      <td>18.679000</td>\n",
              "      <td>1012.600000</td>\n",
              "      <td>82.229000</td>\n",
              "      <td>4.159600</td>\n",
              "      <td>24.889000</td>\n",
              "      <td>1088.000000</td>\n",
              "      <td>549.910000</td>\n",
              "      <td>133.760000</td>\n",
              "      <td>11.996000</td>\n",
              "      <td>1.434100</td>\n",
              "      <td>66.707000</td>\n",
              "    </tr>\n",
              "    <tr>\n",
              "      <th>75%</th>\n",
              "      <td>24.116500</td>\n",
              "      <td>1016.600000</td>\n",
              "      <td>90.057500</td>\n",
              "      <td>4.492650</td>\n",
              "      <td>26.369000</td>\n",
              "      <td>1094.100000</td>\n",
              "      <td>550.060000</td>\n",
              "      <td>135.320000</td>\n",
              "      <td>12.315000</td>\n",
              "      <td>2.235500</td>\n",
              "      <td>74.290500</td>\n",
              "    </tr>\n",
              "    <tr>\n",
              "      <th>max</th>\n",
              "      <td>34.929000</td>\n",
              "      <td>1034.200000</td>\n",
              "      <td>100.200000</td>\n",
              "      <td>7.610600</td>\n",
              "      <td>32.997000</td>\n",
              "      <td>1100.600000</td>\n",
              "      <td>550.610000</td>\n",
              "      <td>167.840000</td>\n",
              "      <td>14.315000</td>\n",
              "      <td>44.103000</td>\n",
              "      <td>119.890000</td>\n",
              "    </tr>\n",
              "  </tbody>\n",
              "</table>\n",
              "</div>"
            ],
            "text/plain": [
              "                 AT            AP  ...            CO           NOX\n",
              "count  14363.000000  14363.000000  ...  14363.000000  14363.000000\n",
              "mean      18.233948   1012.940101  ...      2.032608     68.324963\n",
              "std        7.391791      6.261948  ...      2.253038     10.654177\n",
              "min        0.522300    985.850000  ...      0.000388     27.765000\n",
              "25%       12.244500   1008.800000  ...      0.913185     61.167000\n",
              "50%       18.679000   1012.600000  ...      1.434100     66.707000\n",
              "75%       24.116500   1016.600000  ...      2.235500     74.290500\n",
              "max       34.929000   1034.200000  ...     44.103000    119.890000\n",
              "\n",
              "[8 rows x 11 columns]"
            ]
          },
          "metadata": {
            "tags": []
          },
          "execution_count": 53
        }
      ]
    },
    {
      "cell_type": "code",
      "metadata": {
        "colab": {
          "base_uri": "https://localhost:8080/",
          "height": 350
        },
        "id": "-4Mtydx8qqzo",
        "outputId": "2dc51019-e80f-415c-cd39-897ff1a5fb9b"
      },
      "source": [
        "sns.boxplot(data['CO'])"
      ],
      "execution_count": 54,
      "outputs": [
        {
          "output_type": "stream",
          "text": [
            "/usr/local/lib/python3.7/dist-packages/seaborn/_decorators.py:43: FutureWarning: Pass the following variable as a keyword arg: x. From version 0.12, the only valid positional argument will be `data`, and passing other arguments without an explicit keyword will result in an error or misinterpretation.\n",
            "  FutureWarning\n"
          ],
          "name": "stderr"
        },
        {
          "output_type": "execute_result",
          "data": {
            "text/plain": [
              "<matplotlib.axes._subplots.AxesSubplot at 0x7ff1fc0da650>"
            ]
          },
          "metadata": {
            "tags": []
          },
          "execution_count": 54
        },
        {
          "output_type": "display_data",
          "data": {
            "image/png": "[encoded data removed]",
            "text/plain": [
              "<Figure size 432x288 with 1 Axes>"
            ]
          },
          "metadata": {
            "tags": [],
            "needs_background": "light"
          }
        }
      ]
    },
    {
      "cell_type": "code",
      "metadata": {
        "id": "9Cb9UhXkqqzp"
      },
      "source": [
        "#feature selection using Decision Tree:\n",
        "from sklearn.tree import DecisionTreeRegressor\n",
        "dt_model= DecisionTreeRegressor()\n",
        "x=data.drop('TEY',axis=1)\n",
        "y=data['TEY']"
      ],
      "execution_count": 55,
      "outputs": []
    },
    {
      "cell_type": "code",
      "metadata": {
        "colab": {
          "base_uri": "https://localhost:8080/",
          "height": 417
        },
        "id": "UV5Udr3Qqqzq",
        "outputId": "021e1e24-be33-4b40-978b-c02147ae1613"
      },
      "source": [
        "x"
      ],
      "execution_count": 56,
      "outputs": [
        {
          "output_type": "execute_result",
          "data": {
            "text/html": [
              "<div>\n",
              "<style scoped>\n",
              "    .dataframe tbody tr th:only-of-type {\n",
              "        vertical-align: middle;\n",
              "    }\n",
              "\n",
              "    .dataframe tbody tr th {\n",
              "        vertical-align: top;\n",
              "    }\n",
              "\n",
              "    .dataframe thead th {\n",
              "        text-align: right;\n",
              "    }\n",
              "</style>\n",
              "<table border=\"1\" class=\"dataframe\">\n",
              "  <thead>\n",
              "    <tr style=\"text-align: right;\">\n",
              "      <th></th>\n",
              "      <th>AT</th>\n",
              "      <th>AP</th>\n",
              "      <th>AH</th>\n",
              "      <th>AFDP</th>\n",
              "      <th>GTEP</th>\n",
              "      <th>TIT</th>\n",
              "      <th>TAT</th>\n",
              "      <th>CDP</th>\n",
              "      <th>CO</th>\n",
              "      <th>NOX</th>\n",
              "    </tr>\n",
              "  </thead>\n",
              "  <tbody>\n",
              "    <tr>\n",
              "      <th>0</th>\n",
              "      <td>6.8594</td>\n",
              "      <td>1007.9</td>\n",
              "      <td>96.799</td>\n",
              "      <td>3.5000</td>\n",
              "      <td>19.663</td>\n",
              "      <td>1059.2</td>\n",
              "      <td>550.00</td>\n",
              "      <td>10.605</td>\n",
              "      <td>3.1547</td>\n",
              "      <td>82.722</td>\n",
              "    </tr>\n",
              "    <tr>\n",
              "      <th>1</th>\n",
              "      <td>6.7850</td>\n",
              "      <td>1008.4</td>\n",
              "      <td>97.118</td>\n",
              "      <td>3.4998</td>\n",
              "      <td>19.728</td>\n",
              "      <td>1059.3</td>\n",
              "      <td>550.00</td>\n",
              "      <td>10.598</td>\n",
              "      <td>3.2363</td>\n",
              "      <td>82.776</td>\n",
              "    </tr>\n",
              "    <tr>\n",
              "      <th>2</th>\n",
              "      <td>6.8977</td>\n",
              "      <td>1008.8</td>\n",
              "      <td>95.939</td>\n",
              "      <td>3.4824</td>\n",
              "      <td>19.779</td>\n",
              "      <td>1059.4</td>\n",
              "      <td>549.87</td>\n",
              "      <td>10.601</td>\n",
              "      <td>3.2012</td>\n",
              "      <td>82.468</td>\n",
              "    </tr>\n",
              "    <tr>\n",
              "      <th>3</th>\n",
              "      <td>7.0569</td>\n",
              "      <td>1009.2</td>\n",
              "      <td>95.249</td>\n",
              "      <td>3.4805</td>\n",
              "      <td>19.792</td>\n",
              "      <td>1059.6</td>\n",
              "      <td>549.99</td>\n",
              "      <td>10.606</td>\n",
              "      <td>3.1923</td>\n",
              "      <td>82.670</td>\n",
              "    </tr>\n",
              "    <tr>\n",
              "      <th>4</th>\n",
              "      <td>7.3978</td>\n",
              "      <td>1009.7</td>\n",
              "      <td>95.150</td>\n",
              "      <td>3.4976</td>\n",
              "      <td>19.765</td>\n",
              "      <td>1059.7</td>\n",
              "      <td>549.98</td>\n",
              "      <td>10.612</td>\n",
              "      <td>3.2484</td>\n",
              "      <td>82.311</td>\n",
              "    </tr>\n",
              "    <tr>\n",
              "      <th>...</th>\n",
              "      <td>...</td>\n",
              "      <td>...</td>\n",
              "      <td>...</td>\n",
              "      <td>...</td>\n",
              "      <td>...</td>\n",
              "      <td>...</td>\n",
              "      <td>...</td>\n",
              "      <td>...</td>\n",
              "      <td>...</td>\n",
              "      <td>...</td>\n",
              "    </tr>\n",
              "    <tr>\n",
              "      <th>15034</th>\n",
              "      <td>9.0301</td>\n",
              "      <td>1005.6</td>\n",
              "      <td>98.460</td>\n",
              "      <td>3.5421</td>\n",
              "      <td>19.164</td>\n",
              "      <td>1049.7</td>\n",
              "      <td>546.21</td>\n",
              "      <td>10.400</td>\n",
              "      <td>4.5186</td>\n",
              "      <td>79.559</td>\n",
              "    </tr>\n",
              "    <tr>\n",
              "      <th>15035</th>\n",
              "      <td>7.8879</td>\n",
              "      <td>1005.9</td>\n",
              "      <td>99.093</td>\n",
              "      <td>3.5059</td>\n",
              "      <td>19.414</td>\n",
              "      <td>1046.3</td>\n",
              "      <td>543.22</td>\n",
              "      <td>10.433</td>\n",
              "      <td>4.8470</td>\n",
              "      <td>79.917</td>\n",
              "    </tr>\n",
              "    <tr>\n",
              "      <th>15036</th>\n",
              "      <td>7.2647</td>\n",
              "      <td>1006.3</td>\n",
              "      <td>99.496</td>\n",
              "      <td>3.4770</td>\n",
              "      <td>19.530</td>\n",
              "      <td>1037.7</td>\n",
              "      <td>537.32</td>\n",
              "      <td>10.483</td>\n",
              "      <td>7.9632</td>\n",
              "      <td>90.912</td>\n",
              "    </tr>\n",
              "    <tr>\n",
              "      <th>15037</th>\n",
              "      <td>7.0060</td>\n",
              "      <td>1006.8</td>\n",
              "      <td>99.008</td>\n",
              "      <td>3.4486</td>\n",
              "      <td>19.377</td>\n",
              "      <td>1043.2</td>\n",
              "      <td>541.24</td>\n",
              "      <td>10.533</td>\n",
              "      <td>6.2494</td>\n",
              "      <td>93.227</td>\n",
              "    </tr>\n",
              "    <tr>\n",
              "      <th>15038</th>\n",
              "      <td>6.9279</td>\n",
              "      <td>1007.2</td>\n",
              "      <td>97.533</td>\n",
              "      <td>3.4275</td>\n",
              "      <td>19.306</td>\n",
              "      <td>1049.9</td>\n",
              "      <td>545.85</td>\n",
              "      <td>10.583</td>\n",
              "      <td>4.9816</td>\n",
              "      <td>92.498</td>\n",
              "    </tr>\n",
              "  </tbody>\n",
              "</table>\n",
              "<p>14363 rows × 10 columns</p>\n",
              "</div>"
            ],
            "text/plain": [
              "           AT      AP      AH    AFDP  ...     TAT     CDP      CO     NOX\n",
              "0      6.8594  1007.9  96.799  3.5000  ...  550.00  10.605  3.1547  82.722\n",
              "1      6.7850  1008.4  97.118  3.4998  ...  550.00  10.598  3.2363  82.776\n",
              "2      6.8977  1008.8  95.939  3.4824  ...  549.87  10.601  3.2012  82.468\n",
              "3      7.0569  1009.2  95.249  3.4805  ...  549.99  10.606  3.1923  82.670\n",
              "4      7.3978  1009.7  95.150  3.4976  ...  549.98  10.612  3.2484  82.311\n",
              "...       ...     ...     ...     ...  ...     ...     ...     ...     ...\n",
              "15034  9.0301  1005.6  98.460  3.5421  ...  546.21  10.400  4.5186  79.559\n",
              "15035  7.8879  1005.9  99.093  3.5059  ...  543.22  10.433  4.8470  79.917\n",
              "15036  7.2647  1006.3  99.496  3.4770  ...  537.32  10.483  7.9632  90.912\n",
              "15037  7.0060  1006.8  99.008  3.4486  ...  541.24  10.533  6.2494  93.227\n",
              "15038  6.9279  1007.2  97.533  3.4275  ...  545.85  10.583  4.9816  92.498\n",
              "\n",
              "[14363 rows x 10 columns]"
            ]
          },
          "metadata": {
            "tags": []
          },
          "execution_count": 56
        }
      ]
    },
    {
      "cell_type": "code",
      "metadata": {
        "colab": {
          "base_uri": "https://localhost:8080/"
        },
        "id": "bkb3yMg6qqzs",
        "outputId": "7177f38d-72d5-44c0-f293-02d0498d11bd"
      },
      "source": [
        "y"
      ],
      "execution_count": 57,
      "outputs": [
        {
          "output_type": "execute_result",
          "data": {
            "text/plain": [
              "0        114.70\n",
              "1        114.72\n",
              "2        114.71\n",
              "3        114.72\n",
              "4        114.72\n",
              "          ...  \n",
              "15034    111.61\n",
              "15035    111.78\n",
              "15036    110.19\n",
              "15037    110.74\n",
              "15038    111.58\n",
              "Name: TEY, Length: 14363, dtype: float64"
            ]
          },
          "metadata": {
            "tags": []
          },
          "execution_count": 57
        }
      ]
    },
    {
      "cell_type": "code",
      "metadata": {
        "colab": {
          "base_uri": "https://localhost:8080/"
        },
        "id": "_hJ29BHpqqzt",
        "outputId": "5659b150-68b1-4256-881b-10ce96821bb2"
      },
      "source": [
        "from sklearn.preprocessing import StandardScaler\n",
        "sc= StandardScaler()\n",
        "x=sc.fit_transform(x)\n",
        "x"
      ],
      "execution_count": 63,
      "outputs": [
        {
          "output_type": "execute_result",
          "data": {
            "text/plain": [
              "array([[-1.53886171, -0.80490545,  1.27828895, ..., -1.36477946,\n",
              "         0.49805249,  1.3513515 ],\n",
              "       [-1.54892728, -0.72505531,  1.30121648, ..., -1.37161882,\n",
              "         0.53427152,  1.35642011],\n",
              "       [-1.53368011, -0.66117521,  1.21647806, ..., -1.36868767,\n",
              "         0.51869201,  1.32751025],\n",
              "       ...,\n",
              "       [-1.48402871, -1.06042587,  1.4721308 , ..., -1.48397961,\n",
              "         2.63235651,  2.12009082],\n",
              "       [-1.51902821, -0.98057574,  1.43705671, ..., -1.43512709,\n",
              "         1.8716681 ,  2.33738405],\n",
              "       [-1.52959435, -0.91669563,  1.33104384, ..., -1.38627457,\n",
              "         1.30894154,  2.2689578 ]])"
            ]
          },
          "metadata": {
            "tags": []
          },
          "execution_count": 63
        }
      ]
    },
    {
      "cell_type": "code",
      "metadata": {
        "id": "satF3x0Nqqzu"
      },
      "source": [
        "from sklearn.model_selection import train_test_split\n",
        "x_train  , x_test, y_train  , y_test  = train_test_split(x,y,test_size=0.2,random_state=42)"
      ],
      "execution_count": 66,
      "outputs": []
    },
    {
      "cell_type": "code",
      "metadata": {
        "id": "v_as5lW3qqzu"
      },
      "source": [
        "import keras\n",
        "from keras.models import Sequential\n",
        "from keras.layers import Dense,Dropout\n",
        "from keras.optimizers import Adadelta,Adam\n",
        "from keras.wrappers.scikit_learn import KerasRegressor\n",
        "\n",
        "from sklearn.model_selection import GridSearchCV,KFold,cross_val_score"
      ],
      "execution_count": 67,
      "outputs": []
    },
    {
      "cell_type": "code",
      "metadata": {
        "id": "w9gBVP_5qqzv"
      },
      "source": [
        "y_pred=dt_model.predict(x_test)"
      ],
      "execution_count": 68,
      "outputs": []
    },
    {
      "cell_type": "code",
      "metadata": {
        "id": "CC0QJkU-xm8K"
      },
      "source": [
        "kfold=KFold(n_splits=10)\n",
        "def create_model():\n",
        "    model=Sequential([Dense(12,kernel_initializer='normal',activation='relu'),Dense(8,kernel_initializer='normal',activation='relu'),Dense(1,kernel_initializer='normal')])\n",
        "    adam=Adam(lr=0.01)\n",
        "    model.compile(loss='mean_squared_error',optimizer=adam)\n",
        "    return model"
      ],
      "execution_count": 69,
      "outputs": []
    },
    {
      "cell_type": "code",
      "metadata": {
        "id": "S_nV1MHTqqzv",
        "colab": {
          "base_uri": "https://localhost:8080/"
        },
        "outputId": "cab78bd2-6233-4229-d6cc-aa275be15998"
      },
      "source": [
        "model= create_model()\n",
        "model_one= model.fit(x_train,y_train,epochs=100)"
      ],
      "execution_count": 77,
      "outputs": [
        {
          "output_type": "stream",
          "text": [
            "/usr/local/lib/python3.7/dist-packages/tensorflow/python/keras/optimizer_v2/optimizer_v2.py:375: UserWarning: The `lr` argument is deprecated, use `learning_rate` instead.\n",
            "  \"The `lr` argument is deprecated, use `learning_rate` instead.\")\n"
          ],
          "name": "stderr"
        },
        {
          "output_type": "stream",
          "text": [
            "Epoch 1/100\n",
            "360/360 [==============================] - 1s 1ms/step - loss: 7239.3032\n",
            "Epoch 2/100\n",
            "360/360 [==============================] - 0s 1ms/step - loss: 61.0320\n",
            "Epoch 3/100\n",
            "360/360 [==============================] - 0s 1ms/step - loss: 19.3048\n",
            "Epoch 4/100\n",
            "360/360 [==============================] - 0s 1ms/step - loss: 7.8993\n",
            "Epoch 5/100\n",
            "360/360 [==============================] - 0s 1ms/step - loss: 2.7668\n",
            "Epoch 6/100\n",
            "360/360 [==============================] - 0s 1ms/step - loss: 1.4068\n",
            "Epoch 7/100\n",
            "360/360 [==============================] - 0s 1ms/step - loss: 0.8442\n",
            "Epoch 8/100\n",
            "360/360 [==============================] - 0s 1ms/step - loss: 0.7403\n",
            "Epoch 9/100\n",
            "360/360 [==============================] - 1s 1ms/step - loss: 0.6940\n",
            "Epoch 10/100\n",
            "360/360 [==============================] - 0s 1ms/step - loss: 1.2513\n",
            "Epoch 11/100\n",
            "360/360 [==============================] - 0s 1ms/step - loss: 1.0834\n",
            "Epoch 12/100\n",
            "360/360 [==============================] - 0s 1ms/step - loss: 0.8736\n",
            "Epoch 13/100\n",
            "360/360 [==============================] - 0s 1ms/step - loss: 0.8999\n",
            "Epoch 14/100\n",
            "360/360 [==============================] - 0s 1ms/step - loss: 1.2093\n",
            "Epoch 15/100\n",
            "360/360 [==============================] - 0s 1ms/step - loss: 1.1647\n",
            "Epoch 16/100\n",
            "360/360 [==============================] - 0s 1ms/step - loss: 2.5042\n",
            "Epoch 17/100\n",
            "360/360 [==============================] - 0s 1ms/step - loss: 0.8339\n",
            "Epoch 18/100\n",
            "360/360 [==============================] - 0s 1ms/step - loss: 0.9181\n",
            "Epoch 19/100\n",
            "360/360 [==============================] - 0s 1ms/step - loss: 3.6065\n",
            "Epoch 20/100\n",
            "360/360 [==============================] - 0s 1ms/step - loss: 0.8842\n",
            "Epoch 21/100\n",
            "360/360 [==============================] - 1s 1ms/step - loss: 1.1431\n",
            "Epoch 22/100\n",
            "360/360 [==============================] - 0s 1ms/step - loss: 1.3434\n",
            "Epoch 23/100\n",
            "360/360 [==============================] - 0s 1ms/step - loss: 1.3983\n",
            "Epoch 24/100\n",
            "360/360 [==============================] - 0s 1ms/step - loss: 1.0771\n",
            "Epoch 25/100\n",
            "360/360 [==============================] - 0s 1ms/step - loss: 1.1680\n",
            "Epoch 26/100\n",
            "360/360 [==============================] - 0s 1ms/step - loss: 0.9958\n",
            "Epoch 27/100\n",
            "360/360 [==============================] - 0s 1ms/step - loss: 0.9931\n",
            "Epoch 28/100\n",
            "360/360 [==============================] - 1s 1ms/step - loss: 1.0564\n",
            "Epoch 29/100\n",
            "360/360 [==============================] - 0s 1ms/step - loss: 1.3067\n",
            "Epoch 30/100\n",
            "360/360 [==============================] - 0s 1ms/step - loss: 1.7531\n",
            "Epoch 31/100\n",
            "360/360 [==============================] - 0s 1ms/step - loss: 0.8433\n",
            "Epoch 32/100\n",
            "360/360 [==============================] - 0s 1ms/step - loss: 1.2837\n",
            "Epoch 33/100\n",
            "360/360 [==============================] - 0s 1ms/step - loss: 1.2071\n",
            "Epoch 34/100\n",
            "360/360 [==============================] - 1s 1ms/step - loss: 1.5799\n",
            "Epoch 35/100\n",
            "360/360 [==============================] - 0s 1ms/step - loss: 1.0035\n",
            "Epoch 36/100\n",
            "360/360 [==============================] - 0s 1ms/step - loss: 0.8192\n",
            "Epoch 37/100\n",
            "360/360 [==============================] - 0s 1ms/step - loss: 1.1848\n",
            "Epoch 38/100\n",
            "360/360 [==============================] - 0s 1ms/step - loss: 0.8732\n",
            "Epoch 39/100\n",
            "360/360 [==============================] - 0s 1ms/step - loss: 0.8297\n",
            "Epoch 40/100\n",
            "360/360 [==============================] - 0s 1ms/step - loss: 2.0377\n",
            "Epoch 41/100\n",
            "360/360 [==============================] - 0s 1ms/step - loss: 1.0406\n",
            "Epoch 42/100\n",
            "360/360 [==============================] - 0s 1ms/step - loss: 1.1514\n",
            "Epoch 43/100\n",
            "360/360 [==============================] - 0s 1ms/step - loss: 0.9788\n",
            "Epoch 44/100\n",
            "360/360 [==============================] - 0s 1ms/step - loss: 0.9763\n",
            "Epoch 45/100\n",
            "360/360 [==============================] - 0s 1ms/step - loss: 0.8355\n",
            "Epoch 46/100\n",
            "360/360 [==============================] - 0s 1ms/step - loss: 2.2582\n",
            "Epoch 47/100\n",
            "360/360 [==============================] - 1s 1ms/step - loss: 0.9440\n",
            "Epoch 48/100\n",
            "360/360 [==============================] - 0s 1ms/step - loss: 0.8544\n",
            "Epoch 49/100\n",
            "360/360 [==============================] - 0s 1ms/step - loss: 0.8430\n",
            "Epoch 50/100\n",
            "360/360 [==============================] - 1s 1ms/step - loss: 1.7514\n",
            "Epoch 51/100\n",
            "360/360 [==============================] - 1s 1ms/step - loss: 0.7930\n",
            "Epoch 52/100\n",
            "360/360 [==============================] - 1s 1ms/step - loss: 0.7736\n",
            "Epoch 53/100\n",
            "360/360 [==============================] - 1s 1ms/step - loss: 1.2526\n",
            "Epoch 54/100\n",
            "360/360 [==============================] - 0s 1ms/step - loss: 1.0039\n",
            "Epoch 55/100\n",
            "360/360 [==============================] - 0s 1ms/step - loss: 0.8132\n",
            "Epoch 56/100\n",
            "360/360 [==============================] - 0s 1ms/step - loss: 2.1373\n",
            "Epoch 57/100\n",
            "360/360 [==============================] - 1s 1ms/step - loss: 0.9510\n",
            "Epoch 58/100\n",
            "360/360 [==============================] - 0s 1ms/step - loss: 0.8933\n",
            "Epoch 59/100\n",
            "360/360 [==============================] - 1s 1ms/step - loss: 0.9653\n",
            "Epoch 60/100\n",
            "360/360 [==============================] - 0s 1ms/step - loss: 1.1378\n",
            "Epoch 61/100\n",
            "360/360 [==============================] - 0s 1ms/step - loss: 0.8598\n",
            "Epoch 62/100\n",
            "360/360 [==============================] - 0s 1ms/step - loss: 0.9172\n",
            "Epoch 63/100\n",
            "360/360 [==============================] - 0s 1ms/step - loss: 0.9216\n",
            "Epoch 64/100\n",
            "360/360 [==============================] - 0s 1ms/step - loss: 0.9806\n",
            "Epoch 65/100\n",
            "360/360 [==============================] - 1s 1ms/step - loss: 0.9439\n",
            "Epoch 66/100\n",
            "360/360 [==============================] - 0s 1ms/step - loss: 0.9459\n",
            "Epoch 67/100\n",
            "360/360 [==============================] - 1s 1ms/step - loss: 0.9708\n",
            "Epoch 68/100\n",
            "360/360 [==============================] - 0s 1ms/step - loss: 1.0724\n",
            "Epoch 69/100\n",
            "360/360 [==============================] - 1s 1ms/step - loss: 0.7977\n",
            "Epoch 70/100\n",
            "360/360 [==============================] - 0s 1ms/step - loss: 1.2009\n",
            "Epoch 71/100\n",
            "360/360 [==============================] - 0s 1ms/step - loss: 0.9542\n",
            "Epoch 72/100\n",
            "360/360 [==============================] - 0s 1ms/step - loss: 1.2102\n",
            "Epoch 73/100\n",
            "360/360 [==============================] - 0s 1ms/step - loss: 0.7170\n",
            "Epoch 74/100\n",
            "360/360 [==============================] - 0s 1ms/step - loss: 0.8958\n",
            "Epoch 75/100\n",
            "360/360 [==============================] - 0s 1ms/step - loss: 0.9946\n",
            "Epoch 76/100\n",
            "360/360 [==============================] - 0s 1ms/step - loss: 0.8583\n",
            "Epoch 77/100\n",
            "360/360 [==============================] - 0s 1ms/step - loss: 0.9426\n",
            "Epoch 78/100\n",
            "360/360 [==============================] - 0s 1ms/step - loss: 1.0049\n",
            "Epoch 79/100\n",
            "360/360 [==============================] - 1s 1ms/step - loss: 0.7346\n",
            "Epoch 80/100\n",
            "360/360 [==============================] - 0s 1ms/step - loss: 0.9083\n",
            "Epoch 81/100\n",
            "360/360 [==============================] - 1s 1ms/step - loss: 0.8374\n",
            "Epoch 82/100\n",
            "360/360 [==============================] - 0s 1ms/step - loss: 0.8544\n",
            "Epoch 83/100\n",
            "360/360 [==============================] - 0s 1ms/step - loss: 0.8666\n",
            "Epoch 84/100\n",
            "360/360 [==============================] - 1s 1ms/step - loss: 1.1491\n",
            "Epoch 85/100\n",
            "360/360 [==============================] - 0s 1ms/step - loss: 0.8032\n",
            "Epoch 86/100\n",
            "360/360 [==============================] - 1s 1ms/step - loss: 0.8011\n",
            "Epoch 87/100\n",
            "360/360 [==============================] - 0s 1ms/step - loss: 0.8655\n",
            "Epoch 88/100\n",
            "360/360 [==============================] - 0s 1ms/step - loss: 0.8673\n",
            "Epoch 89/100\n",
            "360/360 [==============================] - 0s 1ms/step - loss: 0.7747\n",
            "Epoch 90/100\n",
            "360/360 [==============================] - 1s 1ms/step - loss: 0.8610\n",
            "Epoch 91/100\n",
            "360/360 [==============================] - 0s 1ms/step - loss: 0.9133\n",
            "Epoch 92/100\n",
            "360/360 [==============================] - 0s 1ms/step - loss: 1.0040\n",
            "Epoch 93/100\n",
            "360/360 [==============================] - 0s 1ms/step - loss: 0.8254\n",
            "Epoch 94/100\n",
            "360/360 [==============================] - 0s 1ms/step - loss: 0.8895\n",
            "Epoch 95/100\n",
            "360/360 [==============================] - 0s 1ms/step - loss: 1.0686\n",
            "Epoch 96/100\n",
            "360/360 [==============================] - 0s 1ms/step - loss: 0.7437\n",
            "Epoch 97/100\n",
            "360/360 [==============================] - 0s 1ms/step - loss: 1.2610\n",
            "Epoch 98/100\n",
            "360/360 [==============================] - 0s 1ms/step - loss: 0.9087\n",
            "Epoch 99/100\n",
            "360/360 [==============================] - 0s 1ms/step - loss: 0.8015\n",
            "Epoch 100/100\n",
            "360/360 [==============================] - 0s 1ms/step - loss: 0.9511\n"
          ],
          "name": "stdout"
        }
      ]
    },
    {
      "cell_type": "code",
      "metadata": {
        "id": "nsKYJNEfqqzw"
      },
      "source": [
        "y_pred=model.predict(x_test)"
      ],
      "execution_count": 78,
      "outputs": []
    },
    {
      "cell_type": "code",
      "metadata": {
        "id": "vJ-s_wRpsgEP",
        "colab": {
          "base_uri": "https://localhost:8080/"
        },
        "outputId": "c47ad432-53df-4d6b-cc49-f9ef289ba2f3"
      },
      "source": [
        "from sklearn.metrics import r2_score\n",
        "print(r2_score(y_pred,y_test))"
      ],
      "execution_count": 79,
      "outputs": [
        {
          "output_type": "stream",
          "text": [
            "0.9969104195193855\n"
          ],
          "name": "stdout"
        }
      ]
    },
    {
      "cell_type": "code",
      "metadata": {
        "colab": {
          "base_uri": "https://localhost:8080/",
          "height": 299
        },
        "id": "V8qoxLyA4J8Y",
        "outputId": "82a59bfd-d2a7-445f-978e-3474760f8d4c"
      },
      "source": [
        "import matplotlib.pyplot as plt\n",
        "plt.scatter(y_pred, y_test)\n",
        "plt.xlabel(\"predicted value\")\n",
        "plt.ylabel(\"actual value\")"
      ],
      "execution_count": 80,
      "outputs": [
        {
          "output_type": "execute_result",
          "data": {
            "text/plain": [
              "Text(0, 0.5, 'actual value')"
            ]
          },
          "metadata": {
            "tags": []
          },
          "execution_count": 80
        },
        {
          "output_type": "display_data",
          "data": {
            "image/png": "[encoded data removed]",
            "text/plain": [
              "<Figure size 432x288 with 1 Axes>"
            ]
          },
          "metadata": {
            "tags": [],
            "needs_background": "light"
          }
        }
      ]
    },
    {
      "cell_type": "code",
      "metadata": {
        "id": "TRlHfhuH4T5L"
      },
      "source": [
        "from sklearn.model_selection import train_test_split\n",
        "x_train  , x_test, y_train  , y_test  = train_test_split(x,y,test_size=0.25,random_state=7 )"
      ],
      "execution_count": 81,
      "outputs": []
    },
    {
      "cell_type": "code",
      "metadata": {
        "colab": {
          "base_uri": "https://localhost:8080/"
        },
        "id": "Fjb3FitI7gBz",
        "outputId": "4ad91a91-ce3c-46aa-8b7c-18b7dec3b146"
      },
      "source": [
        "model_1 = create_model()\n",
        "model_one_1 = model_1.fit(x_train,y_train,epochs=200)"
      ],
      "execution_count": 85,
      "outputs": [
        {
          "output_type": "stream",
          "text": [
            "/usr/local/lib/python3.7/dist-packages/tensorflow/python/keras/optimizer_v2/optimizer_v2.py:375: UserWarning: The `lr` argument is deprecated, use `learning_rate` instead.\n",
            "  \"The `lr` argument is deprecated, use `learning_rate` instead.\")\n"
          ],
          "name": "stderr"
        },
        {
          "output_type": "stream",
          "text": [
            "Epoch 1/200\n",
            "337/337 [==============================] - 1s 1ms/step - loss: 7699.5501\n",
            "Epoch 2/200\n",
            "337/337 [==============================] - 0s 1ms/step - loss: 69.3582\n",
            "Epoch 3/200\n",
            "337/337 [==============================] - 0s 1ms/step - loss: 15.9834\n",
            "Epoch 4/200\n",
            "337/337 [==============================] - 0s 1ms/step - loss: 4.6465\n",
            "Epoch 5/200\n",
            "337/337 [==============================] - 0s 1ms/step - loss: 2.1511\n",
            "Epoch 6/200\n",
            "337/337 [==============================] - 0s 1ms/step - loss: 1.3189\n",
            "Epoch 7/200\n",
            "337/337 [==============================] - 0s 1ms/step - loss: 1.0521\n",
            "Epoch 8/200\n",
            "337/337 [==============================] - 0s 1ms/step - loss: 0.6267\n",
            "Epoch 9/200\n",
            "337/337 [==============================] - 0s 1ms/step - loss: 0.6748\n",
            "Epoch 10/200\n",
            "337/337 [==============================] - 0s 1ms/step - loss: 0.7284\n",
            "Epoch 11/200\n",
            "337/337 [==============================] - 0s 1ms/step - loss: 0.6776\n",
            "Epoch 12/200\n",
            "337/337 [==============================] - 0s 1ms/step - loss: 0.8164\n",
            "Epoch 13/200\n",
            "337/337 [==============================] - 0s 1ms/step - loss: 1.4868\n",
            "Epoch 14/200\n",
            "337/337 [==============================] - 0s 1ms/step - loss: 0.8054\n",
            "Epoch 15/200\n",
            "337/337 [==============================] - 0s 1ms/step - loss: 2.1893\n",
            "Epoch 16/200\n",
            "337/337 [==============================] - 0s 1ms/step - loss: 0.7472\n",
            "Epoch 17/200\n",
            "337/337 [==============================] - 0s 1ms/step - loss: 0.8341\n",
            "Epoch 18/200\n",
            "337/337 [==============================] - 0s 1ms/step - loss: 1.0081\n",
            "Epoch 19/200\n",
            "337/337 [==============================] - 0s 1ms/step - loss: 0.9490\n",
            "Epoch 20/200\n",
            "337/337 [==============================] - 0s 1ms/step - loss: 0.8934\n",
            "Epoch 21/200\n",
            "337/337 [==============================] - 0s 1ms/step - loss: 1.0481\n",
            "Epoch 22/200\n",
            "337/337 [==============================] - 0s 1ms/step - loss: 0.9012\n",
            "Epoch 23/200\n",
            "337/337 [==============================] - 0s 1ms/step - loss: 1.3653\n",
            "Epoch 24/200\n",
            "337/337 [==============================] - 0s 1ms/step - loss: 1.1366\n",
            "Epoch 25/200\n",
            "337/337 [==============================] - 0s 1ms/step - loss: 1.1310\n",
            "Epoch 26/200\n",
            "337/337 [==============================] - 0s 1ms/step - loss: 0.8513\n",
            "Epoch 27/200\n",
            "337/337 [==============================] - 0s 1ms/step - loss: 1.3455\n",
            "Epoch 28/200\n",
            "337/337 [==============================] - 0s 1ms/step - loss: 1.0636\n",
            "Epoch 29/200\n",
            "337/337 [==============================] - 0s 1ms/step - loss: 0.9095\n",
            "Epoch 30/200\n",
            "337/337 [==============================] - 0s 1ms/step - loss: 1.0799\n",
            "Epoch 31/200\n",
            "337/337 [==============================] - 0s 1ms/step - loss: 0.9883\n",
            "Epoch 32/200\n",
            "337/337 [==============================] - 0s 1ms/step - loss: 0.8666\n",
            "Epoch 33/200\n",
            "337/337 [==============================] - 0s 1ms/step - loss: 1.1477\n",
            "Epoch 34/200\n",
            "337/337 [==============================] - 0s 1ms/step - loss: 1.0492\n",
            "Epoch 35/200\n",
            "337/337 [==============================] - 0s 1ms/step - loss: 1.0009\n",
            "Epoch 36/200\n",
            "337/337 [==============================] - 0s 1ms/step - loss: 0.8264\n",
            "Epoch 37/200\n",
            "337/337 [==============================] - 0s 1ms/step - loss: 1.0438\n",
            "Epoch 38/200\n",
            "337/337 [==============================] - 0s 1ms/step - loss: 0.8307\n",
            "Epoch 39/200\n",
            "337/337 [==============================] - 0s 1ms/step - loss: 1.2970\n",
            "Epoch 40/200\n",
            "337/337 [==============================] - 0s 1ms/step - loss: 1.2071\n",
            "Epoch 41/200\n",
            "337/337 [==============================] - 0s 1ms/step - loss: 1.0118\n",
            "Epoch 42/200\n",
            "337/337 [==============================] - 0s 1ms/step - loss: 1.0169\n",
            "Epoch 43/200\n",
            "337/337 [==============================] - 0s 1ms/step - loss: 1.0730\n",
            "Epoch 44/200\n",
            "337/337 [==============================] - 0s 1ms/step - loss: 0.8438\n",
            "Epoch 45/200\n",
            "337/337 [==============================] - 0s 1ms/step - loss: 0.8502\n",
            "Epoch 46/200\n",
            "337/337 [==============================] - 0s 1ms/step - loss: 0.9776\n",
            "Epoch 47/200\n",
            "337/337 [==============================] - 0s 1ms/step - loss: 1.2040\n",
            "Epoch 48/200\n",
            "337/337 [==============================] - 0s 1ms/step - loss: 0.9336\n",
            "Epoch 49/200\n",
            "337/337 [==============================] - 0s 1ms/step - loss: 1.5091\n",
            "Epoch 50/200\n",
            "337/337 [==============================] - 0s 1ms/step - loss: 0.8259\n",
            "Epoch 51/200\n",
            "337/337 [==============================] - 0s 1ms/step - loss: 0.8764\n",
            "Epoch 52/200\n",
            "337/337 [==============================] - 0s 1ms/step - loss: 0.8653\n",
            "Epoch 53/200\n",
            "337/337 [==============================] - 0s 1ms/step - loss: 0.7359\n",
            "Epoch 54/200\n",
            "337/337 [==============================] - 0s 1ms/step - loss: 2.4932\n",
            "Epoch 55/200\n",
            "337/337 [==============================] - 0s 1ms/step - loss: 0.8946\n",
            "Epoch 56/200\n",
            "337/337 [==============================] - 0s 1ms/step - loss: 0.7002\n",
            "Epoch 57/200\n",
            "337/337 [==============================] - 0s 1ms/step - loss: 0.8118\n",
            "Epoch 58/200\n",
            "337/337 [==============================] - 0s 1ms/step - loss: 0.9012\n",
            "Epoch 59/200\n",
            "337/337 [==============================] - 0s 1ms/step - loss: 1.0068\n",
            "Epoch 60/200\n",
            "337/337 [==============================] - 0s 1ms/step - loss: 1.3393\n",
            "Epoch 61/200\n",
            "337/337 [==============================] - 0s 1ms/step - loss: 1.6331\n",
            "Epoch 62/200\n",
            "337/337 [==============================] - 0s 1ms/step - loss: 0.8908\n",
            "Epoch 63/200\n",
            "337/337 [==============================] - 0s 1ms/step - loss: 0.9450\n",
            "Epoch 64/200\n",
            "337/337 [==============================] - 0s 1ms/step - loss: 0.9985\n",
            "Epoch 65/200\n",
            "337/337 [==============================] - 0s 1ms/step - loss: 0.8187\n",
            "Epoch 66/200\n",
            "337/337 [==============================] - 0s 1ms/step - loss: 0.8159\n",
            "Epoch 67/200\n",
            "337/337 [==============================] - 0s 1ms/step - loss: 0.9014\n",
            "Epoch 68/200\n",
            "337/337 [==============================] - 0s 1ms/step - loss: 0.8566\n",
            "Epoch 69/200\n",
            "337/337 [==============================] - 0s 1ms/step - loss: 0.8733\n",
            "Epoch 70/200\n",
            "337/337 [==============================] - 0s 1ms/step - loss: 0.8416\n",
            "Epoch 71/200\n",
            "337/337 [==============================] - 0s 1ms/step - loss: 0.9904\n",
            "Epoch 72/200\n",
            "337/337 [==============================] - 0s 1ms/step - loss: 0.6645\n",
            "Epoch 73/200\n",
            "337/337 [==============================] - 0s 1ms/step - loss: 1.0803\n",
            "Epoch 74/200\n",
            "337/337 [==============================] - 0s 1ms/step - loss: 0.8002\n",
            "Epoch 75/200\n",
            "337/337 [==============================] - 0s 1ms/step - loss: 0.9042\n",
            "Epoch 76/200\n",
            "337/337 [==============================] - 0s 1ms/step - loss: 0.8498\n",
            "Epoch 77/200\n",
            "337/337 [==============================] - 0s 1ms/step - loss: 0.9004\n",
            "Epoch 78/200\n",
            "337/337 [==============================] - 0s 1ms/step - loss: 1.1115\n",
            "Epoch 79/200\n",
            "337/337 [==============================] - 0s 1ms/step - loss: 0.8278\n",
            "Epoch 80/200\n",
            "337/337 [==============================] - 0s 1ms/step - loss: 0.8032\n",
            "Epoch 81/200\n",
            "337/337 [==============================] - 0s 1ms/step - loss: 0.8492\n",
            "Epoch 82/200\n",
            "337/337 [==============================] - 0s 1ms/step - loss: 0.8588\n",
            "Epoch 83/200\n",
            "337/337 [==============================] - 0s 1ms/step - loss: 0.9711\n",
            "Epoch 84/200\n",
            "337/337 [==============================] - 0s 1ms/step - loss: 0.8158\n",
            "Epoch 85/200\n",
            "337/337 [==============================] - 0s 1ms/step - loss: 0.6932\n",
            "Epoch 86/200\n",
            "337/337 [==============================] - 0s 1ms/step - loss: 1.0809\n",
            "Epoch 87/200\n",
            "337/337 [==============================] - 0s 1ms/step - loss: 0.7403\n",
            "Epoch 88/200\n",
            "337/337 [==============================] - 0s 1ms/step - loss: 0.7291\n",
            "Epoch 89/200\n",
            "337/337 [==============================] - 0s 1ms/step - loss: 0.8671\n",
            "Epoch 90/200\n",
            "337/337 [==============================] - 0s 1ms/step - loss: 0.8702\n",
            "Epoch 91/200\n",
            "337/337 [==============================] - 0s 1ms/step - loss: 0.9070\n",
            "Epoch 92/200\n",
            "337/337 [==============================] - 0s 1ms/step - loss: 0.8777\n",
            "Epoch 93/200\n",
            "337/337 [==============================] - 0s 1ms/step - loss: 0.7835\n",
            "Epoch 94/200\n",
            "337/337 [==============================] - 0s 1ms/step - loss: 1.0392\n",
            "Epoch 95/200\n",
            "337/337 [==============================] - 0s 1ms/step - loss: 0.7528\n",
            "Epoch 96/200\n",
            "337/337 [==============================] - 0s 1ms/step - loss: 0.8697\n",
            "Epoch 97/200\n",
            "337/337 [==============================] - 0s 1ms/step - loss: 0.9849\n",
            "Epoch 98/200\n",
            "337/337 [==============================] - 0s 1ms/step - loss: 0.9945\n",
            "Epoch 99/200\n",
            "337/337 [==============================] - 0s 1ms/step - loss: 0.7279\n",
            "Epoch 100/200\n",
            "337/337 [==============================] - 0s 1ms/step - loss: 0.8091\n",
            "Epoch 101/200\n",
            "337/337 [==============================] - 0s 1ms/step - loss: 0.7606\n",
            "Epoch 102/200\n",
            "337/337 [==============================] - 0s 1ms/step - loss: 0.9432\n",
            "Epoch 103/200\n",
            "337/337 [==============================] - 0s 1ms/step - loss: 0.8567\n",
            "Epoch 104/200\n",
            "337/337 [==============================] - 0s 1ms/step - loss: 0.9344\n",
            "Epoch 105/200\n",
            "337/337 [==============================] - 0s 1ms/step - loss: 0.8974\n",
            "Epoch 106/200\n",
            "337/337 [==============================] - 0s 1ms/step - loss: 0.7745\n",
            "Epoch 107/200\n",
            "337/337 [==============================] - 0s 1ms/step - loss: 0.8504\n",
            "Epoch 108/200\n",
            "337/337 [==============================] - 0s 1ms/step - loss: 0.7827\n",
            "Epoch 109/200\n",
            "337/337 [==============================] - 0s 1ms/step - loss: 0.9894\n",
            "Epoch 110/200\n",
            "337/337 [==============================] - 0s 1ms/step - loss: 0.8607\n",
            "Epoch 111/200\n",
            "337/337 [==============================] - 0s 1ms/step - loss: 0.8802\n",
            "Epoch 112/200\n",
            "337/337 [==============================] - 0s 1ms/step - loss: 0.7428\n",
            "Epoch 113/200\n",
            "337/337 [==============================] - 0s 1ms/step - loss: 0.8203\n",
            "Epoch 114/200\n",
            "337/337 [==============================] - 0s 1ms/step - loss: 0.9583\n",
            "Epoch 115/200\n",
            "337/337 [==============================] - 0s 1ms/step - loss: 0.8246\n",
            "Epoch 116/200\n",
            "337/337 [==============================] - 0s 1ms/step - loss: 0.9839\n",
            "Epoch 117/200\n",
            "337/337 [==============================] - 0s 1ms/step - loss: 0.7931\n",
            "Epoch 118/200\n",
            "337/337 [==============================] - 0s 1ms/step - loss: 0.9096\n",
            "Epoch 119/200\n",
            "337/337 [==============================] - 0s 1ms/step - loss: 0.8399\n",
            "Epoch 120/200\n",
            "337/337 [==============================] - 0s 1ms/step - loss: 0.9062\n",
            "Epoch 121/200\n",
            "337/337 [==============================] - 0s 1ms/step - loss: 0.7605\n",
            "Epoch 122/200\n",
            "337/337 [==============================] - 0s 1ms/step - loss: 0.7949\n",
            "Epoch 123/200\n",
            "337/337 [==============================] - 0s 1ms/step - loss: 0.8236\n",
            "Epoch 124/200\n",
            "337/337 [==============================] - 0s 1ms/step - loss: 0.7470\n",
            "Epoch 125/200\n",
            "337/337 [==============================] - 0s 1ms/step - loss: 0.7680\n",
            "Epoch 126/200\n",
            "337/337 [==============================] - 0s 1ms/step - loss: 0.9932\n",
            "Epoch 127/200\n",
            "337/337 [==============================] - 0s 1ms/step - loss: 0.7916\n",
            "Epoch 128/200\n",
            "337/337 [==============================] - 0s 1ms/step - loss: 0.9523\n",
            "Epoch 129/200\n",
            "337/337 [==============================] - 0s 1ms/step - loss: 0.7827\n",
            "Epoch 130/200\n",
            "337/337 [==============================] - 0s 1ms/step - loss: 0.6987\n",
            "Epoch 131/200\n",
            "337/337 [==============================] - 0s 1ms/step - loss: 0.8143\n",
            "Epoch 132/200\n",
            "337/337 [==============================] - 0s 1ms/step - loss: 0.7694\n",
            "Epoch 133/200\n",
            "337/337 [==============================] - 0s 1ms/step - loss: 1.0083\n",
            "Epoch 134/200\n",
            "337/337 [==============================] - 0s 1ms/step - loss: 0.7628\n",
            "Epoch 135/200\n",
            "337/337 [==============================] - 0s 1ms/step - loss: 1.0019\n",
            "Epoch 136/200\n",
            "337/337 [==============================] - 0s 1ms/step - loss: 0.9296\n",
            "Epoch 137/200\n",
            "337/337 [==============================] - 0s 1ms/step - loss: 0.7891\n",
            "Epoch 138/200\n",
            "337/337 [==============================] - 0s 1ms/step - loss: 0.7131\n",
            "Epoch 139/200\n",
            "337/337 [==============================] - 0s 1ms/step - loss: 0.7128\n",
            "Epoch 140/200\n",
            "337/337 [==============================] - 0s 1ms/step - loss: 0.8426\n",
            "Epoch 141/200\n",
            "337/337 [==============================] - 0s 1ms/step - loss: 0.6880\n",
            "Epoch 142/200\n",
            "337/337 [==============================] - 0s 1ms/step - loss: 1.1894\n",
            "Epoch 143/200\n",
            "337/337 [==============================] - 0s 1ms/step - loss: 0.6878\n",
            "Epoch 144/200\n",
            "337/337 [==============================] - 0s 1ms/step - loss: 0.7474\n",
            "Epoch 145/200\n",
            "337/337 [==============================] - 0s 1ms/step - loss: 0.8550\n",
            "Epoch 146/200\n",
            "337/337 [==============================] - 0s 1ms/step - loss: 0.8661\n",
            "Epoch 147/200\n",
            "337/337 [==============================] - 0s 1ms/step - loss: 0.6849\n",
            "Epoch 148/200\n",
            "337/337 [==============================] - 0s 1ms/step - loss: 0.9297\n",
            "Epoch 149/200\n",
            "337/337 [==============================] - 0s 1ms/step - loss: 0.9347\n",
            "Epoch 150/200\n",
            "337/337 [==============================] - 0s 1ms/step - loss: 0.8951\n",
            "Epoch 151/200\n",
            "337/337 [==============================] - 0s 1ms/step - loss: 0.7232\n",
            "Epoch 152/200\n",
            "337/337 [==============================] - 0s 1ms/step - loss: 0.8398\n",
            "Epoch 153/200\n",
            "337/337 [==============================] - 0s 1ms/step - loss: 0.7157\n",
            "Epoch 154/200\n",
            "337/337 [==============================] - 0s 1ms/step - loss: 0.7769\n",
            "Epoch 155/200\n",
            "337/337 [==============================] - 0s 1ms/step - loss: 0.7132\n",
            "Epoch 156/200\n",
            "337/337 [==============================] - 0s 1ms/step - loss: 0.7979\n",
            "Epoch 157/200\n",
            "337/337 [==============================] - 0s 1ms/step - loss: 0.9071\n",
            "Epoch 158/200\n",
            "337/337 [==============================] - 0s 1ms/step - loss: 0.7569\n",
            "Epoch 159/200\n",
            "337/337 [==============================] - 0s 1ms/step - loss: 0.7803\n",
            "Epoch 160/200\n",
            "337/337 [==============================] - 0s 1ms/step - loss: 0.7915\n",
            "Epoch 161/200\n",
            "337/337 [==============================] - 0s 1ms/step - loss: 0.7245\n",
            "Epoch 162/200\n",
            "337/337 [==============================] - 0s 1ms/step - loss: 1.0527\n",
            "Epoch 163/200\n",
            "337/337 [==============================] - 0s 1ms/step - loss: 0.7994\n",
            "Epoch 164/200\n",
            "337/337 [==============================] - 0s 1ms/step - loss: 0.7547\n",
            "Epoch 165/200\n",
            "337/337 [==============================] - 0s 1ms/step - loss: 0.8216\n",
            "Epoch 166/200\n",
            "337/337 [==============================] - 0s 1ms/step - loss: 0.7857\n",
            "Epoch 167/200\n",
            "337/337 [==============================] - 0s 1ms/step - loss: 0.7100\n",
            "Epoch 168/200\n",
            "337/337 [==============================] - 0s 1ms/step - loss: 1.0646\n",
            "Epoch 169/200\n",
            "337/337 [==============================] - 0s 1ms/step - loss: 0.7189\n",
            "Epoch 170/200\n",
            "337/337 [==============================] - 0s 1ms/step - loss: 0.8017\n",
            "Epoch 171/200\n",
            "337/337 [==============================] - 0s 1ms/step - loss: 0.8660\n",
            "Epoch 172/200\n",
            "337/337 [==============================] - 0s 1ms/step - loss: 0.8278\n",
            "Epoch 173/200\n",
            "337/337 [==============================] - 0s 1ms/step - loss: 0.7274\n",
            "Epoch 174/200\n",
            "337/337 [==============================] - 0s 1ms/step - loss: 0.6205\n",
            "Epoch 175/200\n",
            "337/337 [==============================] - 0s 1ms/step - loss: 0.7262\n",
            "Epoch 176/200\n",
            "337/337 [==============================] - 0s 1ms/step - loss: 0.7062\n",
            "Epoch 177/200\n",
            "337/337 [==============================] - 0s 1ms/step - loss: 0.7434\n",
            "Epoch 178/200\n",
            "337/337 [==============================] - 0s 1ms/step - loss: 0.5263\n",
            "Epoch 179/200\n",
            "337/337 [==============================] - 0s 1ms/step - loss: 0.6004\n",
            "Epoch 180/200\n",
            "337/337 [==============================] - 0s 1ms/step - loss: 0.7962\n",
            "Epoch 181/200\n",
            "337/337 [==============================] - 0s 1ms/step - loss: 0.6384\n",
            "Epoch 182/200\n",
            "337/337 [==============================] - 0s 1ms/step - loss: 0.6882\n",
            "Epoch 183/200\n",
            "337/337 [==============================] - 0s 1ms/step - loss: 0.7685\n",
            "Epoch 184/200\n",
            "337/337 [==============================] - 0s 1ms/step - loss: 0.5950\n",
            "Epoch 185/200\n",
            "337/337 [==============================] - 0s 1ms/step - loss: 0.8311\n",
            "Epoch 186/200\n",
            "337/337 [==============================] - 0s 1ms/step - loss: 0.7151\n",
            "Epoch 187/200\n",
            "337/337 [==============================] - 0s 1ms/step - loss: 0.8226\n",
            "Epoch 188/200\n",
            "337/337 [==============================] - 0s 1ms/step - loss: 0.9614\n",
            "Epoch 189/200\n",
            "337/337 [==============================] - 0s 1ms/step - loss: 0.6696\n",
            "Epoch 190/200\n",
            "337/337 [==============================] - 0s 1ms/step - loss: 0.6043\n",
            "Epoch 191/200\n",
            "337/337 [==============================] - 0s 1ms/step - loss: 0.7483\n",
            "Epoch 192/200\n",
            "337/337 [==============================] - 0s 1ms/step - loss: 0.6576\n",
            "Epoch 193/200\n",
            "337/337 [==============================] - 0s 1ms/step - loss: 0.7174\n",
            "Epoch 194/200\n",
            "337/337 [==============================] - 0s 1ms/step - loss: 0.8018\n",
            "Epoch 195/200\n",
            "337/337 [==============================] - 0s 1ms/step - loss: 0.6896\n",
            "Epoch 196/200\n",
            "337/337 [==============================] - 0s 1ms/step - loss: 0.7001\n",
            "Epoch 197/200\n",
            "337/337 [==============================] - 0s 1ms/step - loss: 0.6330\n",
            "Epoch 198/200\n",
            "337/337 [==============================] - 0s 1ms/step - loss: 0.7215\n",
            "Epoch 199/200\n",
            "337/337 [==============================] - 0s 1ms/step - loss: 0.7429\n",
            "Epoch 200/200\n",
            "337/337 [==============================] - 0s 1ms/step - loss: 0.7603\n"
          ],
          "name": "stdout"
        }
      ]
    },
    {
      "cell_type": "code",
      "metadata": {
        "colab": {
          "base_uri": "https://localhost:8080/"
        },
        "id": "uT-2Ccvx5LfE",
        "outputId": "e7cc491a-ced9-45eb-b703-4dd505339757"
      },
      "source": [
        "# training accuracy of base model :\n",
        "y_train_pred = model_1.predict(x_train)\n",
        "print(\"training accuracy :\", r2_score(y_train_pred, y_train))"
      ],
      "execution_count": 86,
      "outputs": [
        {
          "output_type": "stream",
          "text": [
            "training accuracy : 0.9951509097247128\n"
          ],
          "name": "stdout"
        }
      ]
    },
    {
      "cell_type": "code",
      "metadata": {
        "colab": {
          "base_uri": "https://localhost:8080/"
        },
        "id": "PAHx1YXa8DTY",
        "outputId": "2b850819-9d41-4701-858b-edca8a2fead0"
      },
      "source": [
        "# testing accuracy of base model :\n",
        "y_test_pred = model_1.predict(x_test)\n",
        "print(\"training accuracy :\", r2_score(y_test_pred, y_test))"
      ],
      "execution_count": 87,
      "outputs": [
        {
          "output_type": "stream",
          "text": [
            "training accuracy : 0.9949993206036767\n"
          ],
          "name": "stdout"
        }
      ]
    },
    {
      "cell_type": "code",
      "metadata": {
        "id": "3T6gdXxF8Jxt"
      },
      "source": [
        ""
      ],
      "execution_count": null,
      "outputs": []
    }
  ]
}